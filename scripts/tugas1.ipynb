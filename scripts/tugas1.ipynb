{
 "cells": [
  {
   "cell_type": "markdown",
   "metadata": {},
   "source": [
    "# Soft Computing\n",
    "\n",
    "## Tugas 1: Multilayer Perceptron\n",
    "\n",
    "### Mekanisme\n",
    "\n",
    "Anda hanya diwajibkan untuk mengumpulkan file ini saja ke uploader yang disediakan di http://elearning2.uai.ac.id/. Ganti nama file ini saat pengumpulan menjadi tugas1_NIM.ipynb.\n",
    "\n",
    "**Keterlambatan**: Pengumpulan tugas yang melebihi tenggat yang telah ditentukan tidak akan diterima. Keterlambatan akan berakibat pada nilai nol untuk tugas ini.\n",
    "\n",
    "**Kolaborasi**: Anda diperbolehkan untuk berdiskusi dengan teman Anda, tetapi dilarang keras menyalin kode maupun tulisan dari teman Anda.\n",
    "\n",
    "### Petunjuk\n",
    "\n",
    "_Packages_ yang Anda akan gunakan dalam mengerjakan tugas ini antara lain:\n",
    "\n",
    "- tensorflow/keras\n",
    "- matplotlib\n",
    "- numpy\n",
    "- pandas\n",
    "- pillow\n",
    "- scipy\n",
    "- seaborn\n",
    "\n",
    "Anda diperbolehkan (jika dirasa perlu) untuk mengimpor modul tambahan untuk tugas ini. Namun, seharusnya modul yang tersedia sudah cukup untuk memenuhi kebutuhan Anda. Untuk kode yang Anda ambil dari sumber lain, **cantumkan URL menuju referensi tersebut jika diambil dari internet**!\n",
    "\n",
    "Perhatikan poin untuk tiap soal! **Semakin kecil poinnya, berarti kode yang diperlukan untuk menjawab soal tersebut seharusnya semakin sedikit!**"
   ]
  },
  {
   "cell_type": "markdown",
   "metadata": {},
   "source": [
    "**Nilai akhir: XX/50**"
   ]
  },
  {
   "cell_type": "markdown",
   "metadata": {},
   "source": [
    "### Deskripsi Dataset\n",
    "\n",
    "Hampir setiap orang yang belajar tentang neural networks atau deep learning selalu memulai dari dataset [MNIST](http://yann.lecun.com/exdb/mnist/). Dataset ini terdiri dari gambar angka dari 0-9 dengan pembagian: 60,000 data latih dan 10,000 data uji. Setiap gambar telah diproses agar memiliki dimensi yang sama dan diletakkan di pertengahan. Deskripsi lebih lanjut tentang dataset ini dapat Anda lihat di [Wikipedia](https://en.wikipedia.org/wiki/MNIST_database).\n",
    "\n",
    "Untuk memudahkan pengerjaan tugas ini, dataset hanya dibagi menjadi dua: **training set** dan **test set**."
   ]
  },
  {
   "cell_type": "markdown",
   "metadata": {},
   "source": [
    "### Mengimpor Modul dan Dataset"
   ]
  },
  {
   "cell_type": "code",
   "execution_count": null,
   "metadata": {
    "collapsed": true
   },
   "outputs": [],
   "source": [
    "import matplotlib.pyplot as plt\n",
    "import numpy as np\n",
    "import pandas as pd\n",
    "import seaborn as sns\n",
    "import tensorflow as tf\n",
    "\n",
    "%matplotlib inline"
   ]
  },
  {
   "cell_type": "code",
   "execution_count": null,
   "metadata": {},
   "outputs": [],
   "source": [
    "mnist = tf.keras.datasets.mnist\n",
    "(x_train, y_train), (x_test, y_test) = mnist.load_data()"
   ]
  },
  {
   "cell_type": "markdown",
   "metadata": {},
   "source": [
    "## 1. Eksplorasi Awal Data (10 poin)\n",
    "\n",
    "Pada bagian ini, kecuali dijelaskan lebih rinci, dataset yang Anda harusnya gunakan adalah `x_train`."
   ]
  },
  {
   "cell_type": "markdown",
   "metadata": {},
   "source": [
    "### Soal 1.1 (2 poin)\n",
    "\n",
    "Tunjukkan dimensi dari data latih dan data uji."
   ]
  },
  {
   "cell_type": "code",
   "execution_count": null,
   "metadata": {
    "collapsed": true
   },
   "outputs": [],
   "source": []
  },
  {
   "cell_type": "markdown",
   "metadata": {},
   "source": [
    "### Soal 1.2 (4 poin)\n",
    "\n",
    "Ambil 1 contoh gambar dari masing-masing kelas, lalu gambarkan.\n",
    "\n",
    "*Petunjuk: Anda dapat menggunakan `plt.imshow()`*"
   ]
  },
  {
   "cell_type": "code",
   "execution_count": null,
   "metadata": {
    "collapsed": true
   },
   "outputs": [],
   "source": []
  },
  {
   "cell_type": "markdown",
   "metadata": {},
   "source": [
    "### Soal 1.3 (2 poin)\n",
    "\n",
    "Ambil nilai rata-rata tiap pixel dari setiap kelas, lalu gambarkan.\n",
    "\n",
    "*Petunjuk: Anda akan menghasilkan 10 gambar, yaitu rata-rata gambar 0, 1, 2, dst. Jika Anda menggunakan cara yang benar, seharusnya Anda hanya perlu mengganti dua baris dari kode yang Anda kerjakan pada soal 1.2.*"
   ]
  },
  {
   "cell_type": "code",
   "execution_count": null,
   "metadata": {},
   "outputs": [],
   "source": []
  },
  {
   "cell_type": "markdown",
   "metadata": {},
   "source": [
    "### Soal 1.4 (2 poin)\n",
    "\n",
    "Gambarkan grafik berupa garis yang sumbu horizontalnya adalah indeks pixel (0-783) dan sumbu vertikalnya adalah nilai rata-rata dari pixel tersebut. Apa yang dapat Anda perhatikan?"
   ]
  },
  {
   "cell_type": "code",
   "execution_count": null,
   "metadata": {},
   "outputs": [],
   "source": []
  },
  {
   "cell_type": "markdown",
   "metadata": {},
   "source": [
    "## 2. Preprocessing (5 poin)"
   ]
  },
  {
   "cell_type": "markdown",
   "metadata": {},
   "source": [
    "### Soal 2.1 (2 poin)\n",
    "\n",
    "Karena nilai pixel sudah ada di rentang [0,255], transformasikan setiap gambar dengan membagi nilainya dengan 255 agar menjadi [0,1]."
   ]
  },
  {
   "cell_type": "code",
   "execution_count": null,
   "metadata": {},
   "outputs": [],
   "source": []
  },
  {
   "cell_type": "markdown",
   "metadata": {},
   "source": [
    "### Soal 2.2 (2 poin)\n",
    "\n",
    "Saat ini, kelas dalam `y_train` masih berupa nilai [0,9]. Ubah nilainya menjadi one-hot-encoder. Anda dapat menggunakan fungsi `tf.keras.utils.to_categorical`."
   ]
  },
  {
   "cell_type": "code",
   "execution_count": null,
   "metadata": {
    "collapsed": true
   },
   "outputs": [],
   "source": []
  },
  {
   "cell_type": "markdown",
   "metadata": {},
   "source": [
    "### Soal 2.3 (1 poin)\n",
    "\n",
    "Tuliskan rumus fungsi softmax yang nanti akan digunakan dalam kasus klasifikasi MNIST."
   ]
  },
  {
   "cell_type": "markdown",
   "metadata": {},
   "source": [
    "$$\n",
    "\\hat{y}_k = \\frac{\\exp(a_k)}{\\sum_{c=1}^K \\exp(a_c)}\n",
    "$$"
   ]
  },
  {
   "cell_type": "markdown",
   "metadata": {},
   "source": [
    "### 3. Klasifikasi dengan Regresi Logistik (15 poin)"
   ]
  },
  {
   "cell_type": "markdown",
   "metadata": {},
   "source": [
    "### Soal 3.1 (2 poin)\n",
    "\n",
    "Buatlah model **regresi logistik** dengan fungsi softmax sebagai keluarannya dengan hanya menggunakan TensorFlow/Keras. Anda tidak diperkenankan menggunakan pustaka scikit-learn untuk menghasilkan model regresi logistik.\n",
    "\n",
    "*Petunjuk: Apa representasi regresi logistik jika dilihat dari sudut pandang neural networks?*"
   ]
  },
  {
   "cell_type": "code",
   "execution_count": null,
   "metadata": {},
   "outputs": [],
   "source": [
    "def logreg():\n",
    "    # Kode Anda di sini\n",
    "    return model"
   ]
  },
  {
   "cell_type": "markdown",
   "metadata": {},
   "source": [
    "### Soal 3.2 (3 poin)\n",
    "\n",
    "Latih model yang telah Anda buat dengan *training set*. Gunakan Adam sebagai optimizer dari model Anda, `categorical_crossentropy` sebagai *loss function*, 10 epochs, dan akurasi sebagai *metric*. Berapa persen akurasi pada data latih dari model yang dihasilkan?"
   ]
  },
  {
   "cell_type": "code",
   "execution_count": null,
   "metadata": {},
   "outputs": [],
   "source": [
    "np.random.seed(42)\n",
    "\n",
    "model = logreg()\n",
    "# Kode Anda di sini"
   ]
  },
  {
   "cell_type": "markdown",
   "metadata": {},
   "source": [
    "*Jawaban Anda di sini*"
   ]
  },
  {
   "cell_type": "markdown",
   "metadata": {},
   "source": [
    "### Soal 3.3 (3 poin)\n",
    "\n",
    "Evaluasi model Anda pada *test set*. Berapa akurasi yang didapatkan? Gambarkan pula *confusion matrix* dari prediksi yang Anda hasilkan terhadap nilai yang sebenarnya."
   ]
  },
  {
   "cell_type": "code",
   "execution_count": null,
   "metadata": {},
   "outputs": [],
   "source": [
    "from sklearn.metrics import confusion_matrix\n",
    "\n",
    "# Kode Anda di sini"
   ]
  },
  {
   "cell_type": "markdown",
   "metadata": {},
   "source": [
    "### Soal 3.4 (2 poin)\n",
    "\n",
    "Ambil satu gambar angka 8 dari data uji. Lalu prediksi menggunakan model yang telah Anda buat. Tampilkan probabilitas dari masing-masing kelas dari hasil prediksi model Anda."
   ]
  },
  {
   "cell_type": "code",
   "execution_count": null,
   "metadata": {},
   "outputs": [],
   "source": [
    "np.random.seed(42)\n",
    "\n",
    "# Kode Anda di sini"
   ]
  },
  {
   "cell_type": "markdown",
   "metadata": {},
   "source": [
    "### Soal 3.5 (2 poin)\n",
    "\n",
    "Latih kembali model regresi logistik Anda dengan konfigurasi seperti pada soal 3.2. Namun, ubah nilai `epochs` menjadi 50. Lalu, gambarkan *learning curve*-nya dengan menambahkan data uji sebagai parameter `validation_data` dari `model.fit()`."
   ]
  },
  {
   "cell_type": "code",
   "execution_count": null,
   "metadata": {},
   "outputs": [],
   "source": [
    "np.random.seed(42)\n",
    "\n",
    "# Kode Anda di sini"
   ]
  },
  {
   "cell_type": "markdown",
   "metadata": {},
   "source": [
    "### Soal 3.6 (3 poin)\n",
    "\n",
    "Berikan kesimpulan Anda dari hasil yang Anda dapatkan sejauh ini."
   ]
  },
  {
   "cell_type": "markdown",
   "metadata": {},
   "source": [
    "*Jawaban Anda di sini*"
   ]
  },
  {
   "cell_type": "markdown",
   "metadata": {},
   "source": [
    "## 4. Multilayer Perceptron: Wide vs Deep (20 poin)\n",
    "\n",
    "Mana yang lebih baik: model yang melebar atau mendalam?"
   ]
  },
  {
   "cell_type": "markdown",
   "metadata": {},
   "source": [
    "### Soal 4.1 (2 poin)\n",
    "\n",
    "Buatlah model *neural network* dengan satu *hidden layer* yang terdiri dari 800 *hidden units*. Gunakan fungsi aktivasi ReLU pada *hidden layer* dan softmax pada *output layer*."
   ]
  },
  {
   "cell_type": "code",
   "execution_count": null,
   "metadata": {},
   "outputs": [],
   "source": [
    "def wide_net():\n",
    "    # Kode Anda di sini\n",
    "    return model"
   ]
  },
  {
   "cell_type": "markdown",
   "metadata": {},
   "source": [
    "### Soal 4.2.a (6 poin)\n",
    "\n",
    "Jika kita ingin membandingkan model *neural networks*, ada baiknya jika jumlah parameter yang digunakan sama banyaknya. Oleh karena itu, sebagai perbandingan dari arsitektur yang telah Anda buat pada soal 4.1, buatlah tiga model *neural networks* yang bersifat mendalam dengan 2, 3, dan 4 *hidden layers*. Untuk mempermudah, gunakan jumlah *hidden units* yang sama di tiap *hidden layer*."
   ]
  },
  {
   "cell_type": "code",
   "execution_count": null,
   "metadata": {},
   "outputs": [],
   "source": [
    "def deep_net_2():\n",
    "    # Kode Anda di sini\n",
    "    return model\n",
    "\n",
    "def deep_net_3():\n",
    "    # Kode Anda di sini\n",
    "    return model\n",
    "\n",
    "def deep_net_4():\n",
    "    # Kode Anda di sini\n",
    "    return model"
   ]
  },
  {
   "cell_type": "markdown",
   "metadata": {},
   "source": [
    "### Soal 4.2.b (4 poin)\n",
    "\n",
    "Tuliskan perhitungan yang Anda gunakan untuk menghasilkan jumlah *hidden units* pada masing-masing *hidden layers* untuk soal 4.2.a. Perhatikan bahwa jumlah parameternya tidak harus persis sama, tetapi bisa mendekati.\n",
    "\n",
    "*Petunjuk: Anda mungkin akan memerlukan rumus:*\n",
    "\\begin{align}\n",
    "x = \\frac{-b \\pm \\sqrt{b^2 - 4ac}}{2a}\n",
    "\\end{align}"
   ]
  },
  {
   "cell_type": "markdown",
   "metadata": {},
   "source": [
    "*Jawaban Anda di sini*"
   ]
  },
  {
   "cell_type": "markdown",
   "metadata": {},
   "source": [
    "### Soal 4.3 (4 poin)\n",
    "\n",
    "Latihlah setiap arsitektur yang telah Anda definisikan di atas. Gambarkan pula *learning curves* yang dihasilkan pada satu gambar."
   ]
  },
  {
   "cell_type": "code",
   "execution_count": null,
   "metadata": {},
   "outputs": [],
   "source": [
    "np.random.seed(42)\n",
    "\n",
    "# Kode Anda di sini"
   ]
  },
  {
   "cell_type": "markdown",
   "metadata": {},
   "source": [
    "### Soal 4.4 (4 poin)\n",
    "\n",
    "Berikan kesimpulan Anda dari eksplorasi yang telah Anda lakukan pada tugas ini."
   ]
  },
  {
   "cell_type": "markdown",
   "metadata": {},
   "source": [
    "*Jawaban Anda di sini*"
   ]
  }
 ],
 "metadata": {
  "anaconda-cloud": {},
  "kernelspec": {
   "display_name": "Python 3",
   "language": "python",
   "name": "python3"
  },
  "language_info": {
   "codemirror_mode": {
    "name": "ipython",
    "version": 3
   },
   "file_extension": ".py",
   "mimetype": "text/x-python",
   "name": "python",
   "nbconvert_exporter": "python",
   "pygments_lexer": "ipython3",
   "version": "3.6.7"
  }
 },
 "nbformat": 4,
 "nbformat_minor": 2
}
